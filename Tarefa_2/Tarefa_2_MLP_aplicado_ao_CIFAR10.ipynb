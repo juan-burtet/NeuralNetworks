{
 "cells": [
  {
   "cell_type": "markdown",
   "metadata": {
    "colab_type": "text",
    "id": "-f9NvLs5Xbip"
   },
   "source": [
    "# Objetivos deste trabalho\n",
    "- Familiarizar-se com a biblioteca PyTorch\n",
    "- Definir arquiteturas MLP simples em PyTorch\n",
    "- Treinar utilizando CIFAR10, testando diferentes arquiteturas, parâmetros, funções de loss e otimizadores\n",
    "- Comparar os resultados obtidos utilizando apenas Perpceptrons"
   ]
  },
  {
   "cell_type": "markdown",
   "metadata": {},
   "source": [
    "## Inicialização "
   ]
  },
  {
   "cell_type": "code",
   "execution_count": 14,
   "metadata": {
    "colab": {},
    "colab_type": "code",
    "id": "-dryJOgqXbis"
   },
   "outputs": [],
   "source": [
    "%matplotlib inline\n",
    "\n",
    "import time\n",
    "\n",
    "import numpy as np \n",
    "import matplotlib.pyplot as plt\n",
    "\n",
    "import torch\n",
    "import torch.nn as nn\n",
    "from torch.utils.data import DataLoader\n",
    "\n",
    "import torchvision\n",
    "import torchvision.transforms as transforms"
   ]
  },
  {
   "cell_type": "code",
   "execution_count": 15,
   "metadata": {
    "colab": {
     "base_uri": "https://localhost:8080/",
     "height": 51
    },
    "colab_type": "code",
    "id": "iNwiNEXsXbi0",
    "outputId": "2bf2b76f-bfeb-4bdd-9c9c-1d09b3e7dcfa"
   },
   "outputs": [
    {
     "name": "stdout",
     "output_type": "stream",
     "text": [
      "Files already downloaded and verified\n",
      "Files already downloaded and verified\n"
     ]
    }
   ],
   "source": [
    "# Carregar os datasets\n",
    "\n",
    "transform=transforms.Compose([\n",
    "    transforms.Grayscale(num_output_channels=1),\n",
    "    transforms.ToTensor()\n",
    "])\n",
    "\n",
    "dataset_train = torchvision.datasets.CIFAR10(root='./data', train=True,\n",
    "                                        download=True, transform=transform)\n",
    "\n",
    "dataset_test = torchvision.datasets.CIFAR10(root='./data', train=False,\n",
    "                                        download=True, transform=transform)"
   ]
  },
  {
   "cell_type": "code",
   "execution_count": 16,
   "metadata": {
    "colab": {},
    "colab_type": "code",
    "id": "OVOxPTltXbi8"
   },
   "outputs": [],
   "source": [
    "train_loader = DataLoader(dataset=dataset_train, batch_size=50, \n",
    "                          shuffle=True, num_workers=2)\n",
    "test_loader = DataLoader(dataset=dataset_test, batch_size=50, \n",
    "                         shuffle=False, num_workers=2)\n",
    "classes = ('plane', 'car', 'bird', 'cat', 'deer', 'dog', 'frog', 'horse', 'ship', 'truck')"
   ]
  },
  {
   "cell_type": "markdown",
   "metadata": {
    "colab_type": "text",
    "id": "amnqhJ4Igrhr"
   },
   "source": [
    "# Definindo as Arquiteturas MLP"
   ]
  },
  {
   "cell_type": "code",
   "execution_count": 17,
   "metadata": {
    "colab": {},
    "colab_type": "code",
    "id": "iIweDBXpXbjA"
   },
   "outputs": [],
   "source": [
    "# Arquitetura MLP com uma Camada Oculta\n",
    "class MLP1(nn.Module):\n",
    "    \n",
    "    # Construtor da Classe MLP\n",
    "    def __init__(self):\n",
    "        super(MLP1, self).__init__()\n",
    "        self.fc1 = nn.Linear(32*32, 512)\n",
    "        self.fc2 = nn.Linear(512, 10)\n",
    "        self.activation_function = nn.ReLU()\n",
    "    \n",
    "    # Função Forward\n",
    "    def forward(self, x):\n",
    "        x = x.view(-1, 32*32)\n",
    "        x = self.activation_function(self.fc1(x))\n",
    "        x = self.activation_function(self.fc2(x))\n",
    "        return x\n",
    "\n",
    "# Arquitetura MLP com duas Camadas Ocultas\n",
    "class MLP2(nn.Module):\n",
    "    \n",
    "    # Construtor da Classe MLP\n",
    "    def __init__(self):\n",
    "        super(MLP2, self).__init__()\n",
    "        self.fc1 = nn.Linear(32*32, 512)\n",
    "        self.fc2 = nn.Linear(512,   256)\n",
    "        self.fc3 = nn.Linear(256,    10)\n",
    "        self.activation_function = nn.ReLU()\n",
    "    \n",
    "    # Função Forward\n",
    "    def forward(self, x):\n",
    "        x = x.view(-1, 32*32)\n",
    "        x = self.activation_function(self.fc1(x))\n",
    "        x = self.activation_function(self.fc2(x))\n",
    "        x = self.activation_function(self.fc3(x))\n",
    "        return x\n",
    "\n",
    "# Arquitetura MLP com três Camadas Ocultas\n",
    "class MLP3(nn.Module):\n",
    "    \n",
    "    # Construtor da Classe MLP\n",
    "    def __init__(self):\n",
    "        super(MLP3, self).__init__()\n",
    "        self.fc1 = nn.Linear(32*32, 512)\n",
    "        self.fc2 = nn.Linear(512,   256)\n",
    "        self.fc3 = nn.Linear(256,   128)\n",
    "        self.fc4 = nn.Linear(128,    10)\n",
    "        self.activation_function = nn.ReLU()\n",
    "    \n",
    "    # Função Forward\n",
    "    def forward(self, x):\n",
    "        x = x.view(-1, 32*32)\n",
    "        x = self.activation_function(self.fc1(x))\n",
    "        x = self.activation_function(self.fc2(x))\n",
    "        x = self.activation_function(self.fc3(x))\n",
    "        x = self.activation_function(self.fc4(x))\n",
    "        return x"
   ]
  },
  {
   "cell_type": "markdown",
   "metadata": {},
   "source": [
    "### Verificação se é possivel utilizar _cuda_"
   ]
  },
  {
   "cell_type": "code",
   "execution_count": 18,
   "metadata": {
    "colab": {
     "base_uri": "https://localhost:8080/",
     "height": 34
    },
    "colab_type": "code",
    "id": "jWu-v-q7XbjF",
    "outputId": "11d86a5c-400c-4cda-ed7c-bf3a8fcf51fe"
   },
   "outputs": [
    {
     "name": "stdout",
     "output_type": "stream",
     "text": [
      "cpu\n"
     ]
    }
   ],
   "source": [
    "# Confere se pode utilizar cuda\n",
    "device = torch.device(\"cuda:0\" if torch.cuda.is_available() else \"cpu\")\n",
    "\n",
    "# Imprime o dispotivo\n",
    "print(device)"
   ]
  },
  {
   "cell_type": "markdown",
   "metadata": {},
   "source": [
    "### Impressão dos modelos"
   ]
  },
  {
   "cell_type": "code",
   "execution_count": 19,
   "metadata": {
    "colab": {
     "base_uri": "https://localhost:8080/",
     "height": 102
    },
    "colab_type": "code",
    "id": "Dtj4cSzfXbjK",
    "outputId": "ca7c567b-de15-4f9a-88e5-9aabb280b5dd"
   },
   "outputs": [
    {
     "name": "stdout",
     "output_type": "stream",
     "text": [
      "MLP1(\n",
      "  (fc1): Linear(in_features=1024, out_features=512, bias=True)\n",
      "  (fc2): Linear(in_features=512, out_features=10, bias=True)\n",
      "  (activation_function): ReLU()\n",
      ")\n",
      "MLP2(\n",
      "  (fc1): Linear(in_features=1024, out_features=512, bias=True)\n",
      "  (fc2): Linear(in_features=512, out_features=256, bias=True)\n",
      "  (fc3): Linear(in_features=256, out_features=10, bias=True)\n",
      "  (activation_function): ReLU()\n",
      ")\n",
      "MLP3(\n",
      "  (fc1): Linear(in_features=1024, out_features=512, bias=True)\n",
      "  (fc2): Linear(in_features=512, out_features=256, bias=True)\n",
      "  (fc3): Linear(in_features=256, out_features=128, bias=True)\n",
      "  (fc4): Linear(in_features=128, out_features=10, bias=True)\n",
      "  (activation_function): ReLU()\n",
      ")\n"
     ]
    }
   ],
   "source": [
    "# MLP com 1 camada oculta\n",
    "model1 = MLP1()\n",
    "model1 = model1.to(device)\n",
    "\n",
    "# MLP com 2 camadas ocultas\n",
    "model2 = MLP2()\n",
    "model2 = model2.to(device)\n",
    "\n",
    "# MLP com 3 camadas ocultas\n",
    "model3 = MLP3()\n",
    "model3 = model3.to(device)\n",
    "\n",
    "# Imprime os modelos\n",
    "print(model1)\n",
    "print(model2)\n",
    "print(model3)"
   ]
  },
  {
   "cell_type": "markdown",
   "metadata": {},
   "source": [
    "# Definindo os Otimizadores e as Funções de Loss para cada Modelo"
   ]
  },
  {
   "cell_type": "code",
   "execution_count": 25,
   "metadata": {
    "colab": {},
    "colab_type": "code",
    "id": "BPgWmBhbXbjP"
   },
   "outputs": [],
   "source": [
    "\n",
    "# Otimizadores para o Modelo de 1 camada oculta\n",
    "opt_SGD_1     = torch.optim.SGD(model1.parameters(), lr=0.001, momentum=0.9)\n",
    "opt_RMSprop_1 = torch.optim.RMSprop(model1.parameters(), lr=0.001, momentum=0.9)\n",
    "opt_ADAM_1   = torch.optim.Adam(model1.parameters(), lr=0.001)\n",
    "\n",
    "# Otimizadores para o Modelo de 2 camadas ocultas\n",
    "opt_SGD_2     = torch.optim.SGD(model2.parameters(), lr=0.001, momentum=0.9)\n",
    "opt_RMSprop_2 = torch.optim.RMSprop(model2.parameters(), lr=0.001, momentum=0.9)\n",
    "opt_ADAM_2    = torch.optim.Adam(model2.parameters(), lr=0.001)\n",
    "\n",
    "# Otimizadores para o Modelo de 3 camadas ocultas\n",
    "opt_SGD_3     = torch.optim.SGD(model3.parameters(), lr=0.001, momentum=0.9)\n",
    "opt_RMSprop_3 = torch.optim.RMSprop(model3.parameters(), lr=0.001, momentum=0.9)\n",
    "opt_ADAM_3    = torch.optim.Adam(model3.parameters(), lr=0.001)\n",
    "\n",
    "# Funções de Loss\n",
    "loss_CE = nn.CrossEntropyLoss()\n",
    "loss_MSE = nn.MSELoss()"
   ]
  },
  {
   "cell_type": "markdown",
   "metadata": {},
   "source": [
    "# Definindo a função de Treinamento"
   ]
  },
  {
   "cell_type": "code",
   "execution_count": 23,
   "metadata": {
    "colab": {
     "base_uri": "https://localhost:8080/",
     "height": 4284
    },
    "colab_type": "code",
    "id": "y5Gi1bc0XbjT",
    "outputId": "584170ba-8dee-4d6e-bc14-6f3c773599ed"
   },
   "outputs": [],
   "source": [
    "# Função de Treinamento \n",
    "def train(dataset, model, optimizer, loss_fn, epochs=20):\n",
    "    \n",
    "    # Vetor de Loss Inicializado\n",
    "    loss_array = []\n",
    "    \n",
    "    # Percore pelo número de épocas\n",
    "    for epoch in range(epochs):\n",
    "        \n",
    "        # Inicializa o running_loss em 0\n",
    "        running_loss = 0.0\n",
    "        \n",
    "        # Percorre todo o dataset\n",
    "        for i, data in enumerate(dataset, 0):\n",
    "\n",
    "            # Pega a Entrada e o Label\n",
    "            input, label = data\n",
    "            \n",
    "            # Transforma para o device\n",
    "            input, label = input.to(device), label.to(device)\n",
    "\n",
    "            # Zera os parâmetros dos gradientes\n",
    "            optimizer.zero_grad()\n",
    "            \n",
    "            # Passa as entradas pelo modelo\n",
    "            output = model(input)\n",
    "            \n",
    "            # Calcula o loss com a função escolhida\n",
    "            loss = loss_fn(output, label)\n",
    "            \n",
    "            # Propaga o erro\n",
    "            loss.backward()\n",
    "            \n",
    "            # Atualiza os pesos\n",
    "            optimizer.step()\n",
    "            \n",
    "            # Soma ao loss\n",
    "            running_loss += loss.item()\n",
    "        \n",
    "        # Imprime o loss desta época\n",
    "        loss_array.append(running_loss/len(dataset))\n",
    "        print('[%3d] loss: %.4f' %\n",
    "             (epoch + 1, loss_array[-1]))\n",
    "    \n",
    "    # Retorna o array com os Loss em cada época\n",
    "    return loss_array\n"
   ]
  },
  {
   "cell_type": "markdown",
   "metadata": {},
   "source": [
    "# Definindo a Função de Avalaliação do Dataset por um modelo especifico"
   ]
  },
  {
   "cell_type": "code",
   "execution_count": 24,
   "metadata": {
    "colab": {
     "base_uri": "https://localhost:8080/",
     "height": 34
    },
    "colab_type": "code",
    "id": "HlQ7NaqPXbja",
    "outputId": "20ab4b8f-7025-490a-f10e-29096a62681a"
   },
   "outputs": [],
   "source": [
    "\n",
    "# Função de avaliação do modelo num conjunto passado\n",
    "def evaluate(dataset, model, type_of_images='test'):\n",
    "    \n",
    "    # Inicialização\n",
    "    correct, total = 0, 0\n",
    "    \n",
    "    # Percorre todo o dataset\n",
    "    with torch.no_grad():\n",
    "        for data in dataset:\n",
    "            \n",
    "            # Transforma para o device\n",
    "            image, label = data\n",
    "            image, label = image.to(device), label.to(device)\n",
    "            \n",
    "            # Recebe a saida do modelo\n",
    "            output = model(image)\n",
    "            \n",
    "            # Faz o resultado dos labels das saidas\n",
    "            _, predicted = torch.max(output.data, 1)\n",
    "            \n",
    "            # Confere se o resultado foi igual o label para dar acerto\n",
    "            total += 1 \n",
    "            correct += (predicted == label).sum().item()\n",
    "    \n",
    "    # Imprime a acurácia do dataset para tal modelo\n",
    "    print('Accuracy of the network on the %d %s images: %d %%' % \n",
    "          ( len(test_loader),  type_of_images, 100 * correct / total))\n",
    "    \n",
    "    # Retorna a acurácia\n",
    "    return (100 * correct / total)\n"
   ]
  },
  {
   "cell_type": "markdown",
   "metadata": {
    "colab": {},
    "colab_type": "code",
    "id": "hs78u5teXbjk"
   },
   "source": [
    "# __TREINAMENTO DOS MODELOS__"
   ]
  },
  {
   "cell_type": "markdown",
   "metadata": {},
   "source": [
    "## Treinamento do Modelo de 1 Camada Oculta:"
   ]
  },
  {
   "cell_type": "markdown",
   "metadata": {},
   "source": [
    "### Utilizando SGD + CrossEntropy"
   ]
  },
  {
   "cell_type": "code",
   "execution_count": null,
   "metadata": {},
   "outputs": [],
   "source": [
    "SGD_1_time = time.time()\n",
    "loss_SGD_CE_1 = train(train_loader, model1, opt_SGD_1, loss_CE)\n",
    "SGD_1_time = time.time() - SGD_1_time"
   ]
  },
  {
   "cell_type": "markdown",
   "metadata": {},
   "source": [
    "### Utilizando SGD + MSE"
   ]
  },
  {
   "cell_type": "code",
   "execution_count": null,
   "metadata": {},
   "outputs": [],
   "source": [
    "loss_SGD_MSE_1 = train(train_loader, model1, opt_SGD_1, loss_MSE)"
   ]
  },
  {
   "cell_type": "markdown",
   "metadata": {},
   "source": [
    "### Utilizado RMSprop + CrossEntropy"
   ]
  },
  {
   "cell_type": "code",
   "execution_count": null,
   "metadata": {},
   "outputs": [],
   "source": [
    "loss_RMSprop_CE_1 = train(train_loader, model1, opt_RMSprop_1, loss_CE)"
   ]
  },
  {
   "cell_type": "markdown",
   "metadata": {},
   "source": [
    "### Utilizando RMSprop + MSE"
   ]
  },
  {
   "cell_type": "code",
   "execution_count": null,
   "metadata": {},
   "outputs": [],
   "source": [
    "loss_RMSprop_MSE_1 = train(train_loader, model1, opt_RMSprop_1, loss_MSE)"
   ]
  },
  {
   "cell_type": "markdown",
   "metadata": {},
   "source": [
    "### Utilizando ADAM + CrossEntropy"
   ]
  },
  {
   "cell_type": "code",
   "execution_count": null,
   "metadata": {},
   "outputs": [],
   "source": [
    "loss_ADAM_CE = train(train_loader, model1, opt_ADAM_1, loss_CE)"
   ]
  },
  {
   "cell_type": "markdown",
   "metadata": {},
   "source": [
    "### Utilizando ADAM + MSE"
   ]
  },
  {
   "cell_type": "code",
   "execution_count": null,
   "metadata": {},
   "outputs": [],
   "source": [
    "loss_ADAM_MSE = train(train_loader, model1, opt_ADAM_1, loss_MSE)"
   ]
  },
  {
   "cell_type": "code",
   "execution_count": null,
   "metadata": {},
   "outputs": [],
   "source": [
    "SGD_2_time = time.time()\n",
    "loss_SGD_CE_2 = train(train_loader, model2, opt_SGD_2, loss_CE)\n",
    "SGD_2_time = time.time() - SGD_2_time"
   ]
  },
  {
   "cell_type": "code",
   "execution_count": null,
   "metadata": {},
   "outputs": [],
   "source": [
    "SGD_3_time = time.time()\n",
    "loss_SGD_CE_3 = train(train_loader, model3, opt_SGD_3, loss_CE)\n",
    "SGD_3_time = time.time() - SGD_3_time"
   ]
  },
  {
   "cell_type": "code",
   "execution_count": null,
   "metadata": {},
   "outputs": [],
   "source": [
    "print('tempo do modelo 1:', SGD_1_time)\n",
    "print('tempo do modelo 2:', SGD_2_time)\n",
    "print('tempo do modelo 3:', SGD_3_time)"
   ]
  },
  {
   "cell_type": "markdown",
   "metadata": {},
   "source": [
    "### Gráfico do _CrossEntropyLoss_ utilizando _SGD_ no Modelo de 1 Camada Oculta"
   ]
  },
  {
   "cell_type": "code",
   "execution_count": null,
   "metadata": {},
   "outputs": [],
   "source": [
    "plt.title('CrossEntropy + SGD no Modelo 1')\n",
    "plt.xlabel('Epochs')\n",
    "plt.ylabel('Loss')\n",
    "plt.plot(loss_SGD_CE, 'b-')\n",
    "plt.show()"
   ]
  }
 ],
 "metadata": {
  "accelerator": "GPU",
  "colab": {
   "name": "Tarefa_2_MLP_aplicado_ao_CIFAR10.ipynb",
   "provenance": [],
   "version": "0.3.2"
  },
  "kernelspec": {
   "display_name": "Python 3",
   "language": "python",
   "name": "python3"
  },
  "language_info": {
   "codemirror_mode": {
    "name": "ipython",
    "version": 3
   },
   "file_extension": ".py",
   "mimetype": "text/x-python",
   "name": "python",
   "nbconvert_exporter": "python",
   "pygments_lexer": "ipython3",
   "version": "3.7.1"
  }
 },
 "nbformat": 4,
 "nbformat_minor": 2
}
