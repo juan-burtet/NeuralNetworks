{
 "cells": [
  {
   "cell_type": "markdown",
   "metadata": {},
   "source": [
    "# Objetivos deste trabalho\n",
    "- Familiarizar-se com a biblioteca PyTorch\n",
    "- Definir arquiteturas MLP simples em PyTorch\n",
    "- Treinar utilizando CIFAR10, testando diferentes arquiteturas, parâmetros, funções de loss e otimizadores\n",
    "- Comparar os resultados obtidos utilizando apenas Perpceptrons"
   ]
  },
  {
   "cell_type": "code",
   "execution_count": 8,
   "metadata": {},
   "outputs": [],
   "source": [
    "%matplotlib inline\n",
    "\n",
    "import numpy as np \n",
    "import matplotlib.pyplot as plt\n",
    "\n",
    "import torch\n",
    "import torch.nn as nn\n",
    "from torch.utils.data import DataLoader\n",
    "\n",
    "import torchvision\n",
    "import torchvision.transforms as transforms"
   ]
  },
  {
   "cell_type": "code",
   "execution_count": 9,
   "metadata": {},
   "outputs": [
    {
     "name": "stdout",
     "output_type": "stream",
     "text": [
      "Files already downloaded and verified\n",
      "Files already downloaded and verified\n"
     ]
    }
   ],
   "source": [
    "# Carregar os datasets\n",
    "\n",
    "transform=transforms.Compose([\n",
    "    transforms.Grayscale(num_output_channels=1),\n",
    "    transforms.ToTensor()\n",
    "])\n",
    "\n",
    "dataset_train = torchvision.datasets.CIFAR10(root='./data', train=True,\n",
    "                                        download=True, transform=transform)\n",
    "\n",
    "dataset_test = torchvision.datasets.CIFAR10(root='./data', train=False,\n",
    "                                        download=True, transform=transform)"
   ]
  },
  {
   "cell_type": "code",
   "execution_count": 10,
   "metadata": {},
   "outputs": [],
   "source": [
    "train_loader = DataLoader(dataset=dataset_train, shuffle=True)\n",
    "test_loader = DataLoader(dataset=dataset_test, shuffle=False)\n",
    "classes = ('plane', 'car', 'bird', 'cat', 'deer', 'dog', 'frog', 'horse', 'ship', 'truck')"
   ]
  },
  {
   "cell_type": "code",
   "execution_count": 11,
   "metadata": {},
   "outputs": [],
   "source": [
    "# Definir a arquitetura MLP\n",
    "\n",
    "class MLP(nn.Module):\n",
    "    def __init__(self):\n",
    "        super(MLP, self).__init__()\n",
    "        self.fc1 = nn.Linear(32*32, 256)\n",
    "        self.fc2 = nn.Linear(256, 10)\n",
    "        self.activation_function = nn.ReLU()\n",
    "    def forward(self, x):\n",
    "        x = x.view(-1, 32*32)\n",
    "        x = self.activation_function(self.fc1(x))\n",
    "        x = self.activation_function(self.fc2(x))\n",
    "        return x"
   ]
  },
  {
   "cell_type": "code",
   "execution_count": 23,
   "metadata": {},
   "outputs": [
    {
     "name": "stdout",
     "output_type": "stream",
     "text": [
      "cpu\n"
     ]
    }
   ],
   "source": [
    "# Confere se pode utilizar cuda\n",
    "device = torch.device(\"cuda:0\" if torch.cuda.is_available() else \"cpu\")\n",
    "\n",
    "# Imprime o dispotivo\n",
    "print(device)"
   ]
  },
  {
   "cell_type": "code",
   "execution_count": 24,
   "metadata": {},
   "outputs": [
    {
     "name": "stdout",
     "output_type": "stream",
     "text": [
      "MLP(\n",
      "  (fc1): Linear(in_features=1024, out_features=256, bias=True)\n",
      "  (fc2): Linear(in_features=256, out_features=10, bias=True)\n",
      "  (activation_function): ReLU()\n",
      ")\n"
     ]
    }
   ],
   "source": [
    "model = MLP()\n",
    "model = model.to(device)\n",
    "print(model)"
   ]
  },
  {
   "cell_type": "code",
   "execution_count": 25,
   "metadata": {},
   "outputs": [],
   "source": [
    "# Definir otimizador e loss\n",
    "# Nota: testar outros otimizadores e funções de loss (em particular cross entropy)\n",
    "\n",
    "optimizer = torch.optim.SGD(model.parameters(), lr = 0.001, momentum = 0.9)\n",
    "loss_fn = nn.CrossEntropyLoss()"
   ]
  },
  {
   "cell_type": "code",
   "execution_count": 16,
   "metadata": {},
   "outputs": [
    {
     "name": "stdout",
     "output_type": "stream",
     "text": [
      "[1,  2000] loss: 1.964\n",
      "[1,  4000] loss: 1.958\n",
      "[1,  6000] loss: 1.944\n",
      "[1,  8000] loss: 1.949\n",
      "[1, 10000] loss: 1.907\n",
      "[1, 12000] loss: 1.951\n",
      "[1, 14000] loss: 1.981\n",
      "[1, 16000] loss: 1.956\n",
      "[1, 18000] loss: 1.948\n",
      "[1, 20000] loss: 1.941\n",
      "[1, 22000] loss: 1.940\n",
      "[1, 24000] loss: 1.973\n",
      "[1, 26000] loss: 1.959\n",
      "[1, 28000] loss: 1.921\n",
      "[1, 30000] loss: 1.997\n",
      "[1, 32000] loss: 1.957\n",
      "[1, 34000] loss: 1.954\n",
      "[1, 36000] loss: 1.948\n",
      "[1, 38000] loss: 1.982\n",
      "[1, 40000] loss: 1.960\n",
      "[1, 42000] loss: 1.943\n",
      "[1, 44000] loss: 1.959\n",
      "[1, 46000] loss: 1.964\n",
      "[1, 48000] loss: 1.972\n",
      "[1, 50000] loss: 1.928\n",
      "[2,  2000] loss: 1.927\n",
      "[2,  4000] loss: 1.942\n",
      "[2,  6000] loss: 1.932\n",
      "[2,  8000] loss: 1.992\n",
      "[2, 10000] loss: 1.938\n",
      "[2, 12000] loss: 1.968\n",
      "[2, 14000] loss: 1.955\n",
      "[2, 16000] loss: 1.918\n",
      "[2, 18000] loss: 1.941\n",
      "[2, 20000] loss: 1.930\n",
      "[2, 22000] loss: 1.937\n",
      "[2, 24000] loss: 1.915\n",
      "[2, 26000] loss: 1.949\n",
      "[2, 28000] loss: 1.973\n",
      "[2, 30000] loss: 1.977\n",
      "[2, 32000] loss: 1.903\n",
      "[2, 34000] loss: 1.962\n",
      "[2, 36000] loss: 1.958\n",
      "[2, 38000] loss: 1.976\n",
      "[2, 40000] loss: 1.956\n",
      "[2, 42000] loss: 1.905\n",
      "[2, 44000] loss: 1.901\n",
      "[2, 46000] loss: 1.918\n",
      "[2, 48000] loss: 1.953\n",
      "[2, 50000] loss: 1.927\n",
      "[3,  2000] loss: 1.960\n",
      "[3,  4000] loss: 1.931\n",
      "[3,  6000] loss: 1.926\n",
      "[3,  8000] loss: 1.951\n",
      "[3, 10000] loss: 1.945\n",
      "[3, 12000] loss: 1.898\n",
      "[3, 14000] loss: 1.926\n",
      "[3, 16000] loss: 1.938\n",
      "[3, 18000] loss: 1.966\n",
      "[3, 20000] loss: 1.944\n",
      "[3, 22000] loss: 1.940\n",
      "[3, 24000] loss: 1.905\n",
      "[3, 26000] loss: 1.926\n",
      "[3, 28000] loss: 1.916\n",
      "[3, 30000] loss: 1.878\n",
      "[3, 32000] loss: 1.960\n",
      "[3, 34000] loss: 1.915\n",
      "[3, 36000] loss: 1.905\n",
      "[3, 38000] loss: 1.953\n",
      "[3, 40000] loss: 1.925\n",
      "[3, 42000] loss: 1.928\n",
      "[3, 44000] loss: 1.947\n",
      "[3, 46000] loss: 1.920\n",
      "[3, 48000] loss: 1.956\n",
      "[3, 50000] loss: 1.927\n",
      "Treino Finalizado\n"
     ]
    }
   ],
   "source": [
    "# Realizar o treinamento aqui\n",
    "\n",
    "for epoch in range(3):\n",
    "    \n",
    "    running_loss = 0.0\n",
    "    for i, data in enumerate(train_loader, 0):\n",
    "        \n",
    "        # Pega a Entrada e o Label\n",
    "        input, label = data\n",
    "        \n",
    "        input, label = input.to(device), label.to(device)\n",
    "        \n",
    "        # Zera os parâmetros dos gradientes\n",
    "        optimizer.zero_grad()\n",
    "        \n",
    "        output = model(input)\n",
    "        loss = loss_fn(output, label)\n",
    "        loss.backward()\n",
    "        optimizer.step()\n",
    "        running_loss += loss.item()\n",
    "        \n",
    "        if i % 2000 == 1999:\n",
    "            print('[%d, %5d] loss: %.3f' %\n",
    "                 (epoch + 1, i + 1, running_loss / 2000))\n",
    "            running_loss = 0.0\n",
    "\n",
    "print('Treino Finalizado')\n"
   ]
  },
  {
   "cell_type": "code",
   "execution_count": 21,
   "metadata": {},
   "outputs": [
    {
     "name": "stdout",
     "output_type": "stream",
     "text": [
      "Accuracy of the network on the 10000 test images: 30 %\n"
     ]
    }
   ],
   "source": [
    "# Avaliar o modelo aqui (no conjunto de teste)\n",
    "\n",
    "correct = 0\n",
    "total = 0\n",
    "with torch.no_grad():\n",
    "    for data in test_loader:\n",
    "        image, label = data\n",
    "        output = model(image)\n",
    "        _, predicted = torch.max(output.data, 1)\n",
    "        total += 1 \n",
    "        correct += (predicted == label).sum().item()\n",
    "\n",
    "print('Accuracy of the network on the %d test images: %d %%' % \n",
    "      ( len(test_loader), 100 * correct / total))\n"
   ]
  },
  {
   "cell_type": "code",
   "execution_count": 22,
   "metadata": {},
   "outputs": [
    {
     "name": "stdout",
     "output_type": "stream",
     "text": [
      "cpu\n"
     ]
    }
   ],
   "source": [
    "device = torch.device(\"cuda:0\" if torch.cuda.is_available() else \"cpu\")\n",
    "\n",
    "# Assuming that we are on a CUDA machine, this should print a CUDA device:\n",
    "\n",
    "print(device)"
   ]
  },
  {
   "cell_type": "code",
   "execution_count": null,
   "metadata": {},
   "outputs": [],
   "source": []
  }
 ],
 "metadata": {
  "kernelspec": {
   "display_name": "Python 3",
   "language": "python",
   "name": "python3"
  },
  "language_info": {
   "codemirror_mode": {
    "name": "ipython",
    "version": 3
   },
   "file_extension": ".py",
   "mimetype": "text/x-python",
   "name": "python",
   "nbconvert_exporter": "python",
   "pygments_lexer": "ipython3",
   "version": "3.7.1"
  }
 },
 "nbformat": 4,
 "nbformat_minor": 2
}
