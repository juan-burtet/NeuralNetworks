{
  "nbformat": 4,
  "nbformat_minor": 0,
  "metadata": {
    "colab": {
      "name": "Tarefa_2_MLP_aplicado_ao_CIFAR10.ipynb",
      "version": "0.3.2",
      "provenance": []
    },
    "language_info": {
      "codemirror_mode": {
        "name": "ipython",
        "version": 3
      },
      "file_extension": ".py",
      "mimetype": "text/x-python",
      "name": "python",
      "nbconvert_exporter": "python",
      "pygments_lexer": "ipython3",
      "version": "3.7.1"
    },
    "kernelspec": {
      "name": "python3",
      "display_name": "Python 3"
    },
    "accelerator": "GPU"
  },
  "cells": [
    {
      "metadata": {
        "colab_type": "text",
        "id": "-f9NvLs5Xbip"
      },
      "cell_type": "markdown",
      "source": [
        "# Objetivos deste trabalho\n",
        "- Familiarizar-se com a biblioteca PyTorch\n",
        "- Definir arquiteturas MLP simples em PyTorch\n",
        "- Treinar utilizando CIFAR10, testando diferentes arquiteturas, parâmetros, funções de loss e otimizadores\n",
        "- Comparar os resultados obtidos utilizando apenas Perpceptrons"
      ]
    },
    {
      "metadata": {
        "id": "LsN-y0uLv8PJ",
        "colab_type": "text"
      },
      "cell_type": "markdown",
      "source": [
        "## Inicialização "
      ]
    },
    {
      "metadata": {
        "colab_type": "code",
        "id": "-dryJOgqXbis",
        "colab": {}
      },
      "cell_type": "code",
      "source": [
        "%matplotlib inline\n",
        "\n",
        "import time\n",
        "\n",
        "import numpy as np \n",
        "import matplotlib.pyplot as plt\n",
        "\n",
        "import torch\n",
        "import torch.nn as nn\n",
        "from torch.utils.data import DataLoader\n",
        "\n",
        "import torchvision\n",
        "import torchvision.transforms as transforms"
      ],
      "execution_count": 0,
      "outputs": []
    },
    {
      "metadata": {
        "colab_type": "code",
        "id": "iNwiNEXsXbi0",
        "outputId": "90c485b0-350d-4af4-cace-5c972b3445cb",
        "colab": {
          "base_uri": "https://localhost:8080/",
          "height": 51
        }
      },
      "cell_type": "code",
      "source": [
        "# Carregar os datasets\n",
        "\n",
        "transform=transforms.Compose([\n",
        "    transforms.Grayscale(num_output_channels=1),\n",
        "    transforms.ToTensor()\n",
        "])\n",
        "\n",
        "dataset_train = torchvision.datasets.CIFAR10(root='./data', train=True,\n",
        "                                        download=True, transform=transform)\n",
        "\n",
        "dataset_test = torchvision.datasets.CIFAR10(root='./data', train=False,\n",
        "                                        download=True, transform=transform)"
      ],
      "execution_count": 2,
      "outputs": [
        {
          "output_type": "stream",
          "text": [
            "\r0it [00:00, ?it/s]"
          ],
          "name": "stderr"
        },
        {
          "output_type": "stream",
          "text": [
            "Downloading https://www.cs.toronto.edu/~kriz/cifar-10-python.tar.gz to ./data/cifar-10-python.tar.gz\n"
          ],
          "name": "stdout"
        },
        {
          "output_type": "stream",
          "text": [
            "100%|█████████▉| 170008576/170498071 [00:23<00:00, 6046871.07it/s]"
          ],
          "name": "stderr"
        },
        {
          "output_type": "stream",
          "text": [
            "Files already downloaded and verified\n"
          ],
          "name": "stdout"
        }
      ]
    },
    {
      "metadata": {
        "colab_type": "code",
        "id": "OVOxPTltXbi8",
        "colab": {}
      },
      "cell_type": "code",
      "source": [
        "train_loader = DataLoader(dataset=dataset_train, batch_size=50, \n",
        "                          shuffle=True, num_workers=2)\n",
        "test_loader = DataLoader(dataset=dataset_test, batch_size=50, \n",
        "                         shuffle=False, num_workers=2)\n",
        "classes = ('plane', 'car', 'bird', 'cat', 'deer', 'dog', 'frog', 'horse', 'ship', 'truck')"
      ],
      "execution_count": 0,
      "outputs": []
    },
    {
      "metadata": {
        "colab_type": "text",
        "id": "amnqhJ4Igrhr"
      },
      "cell_type": "markdown",
      "source": [
        "# Definindo as Arquiteturas MLP"
      ]
    },
    {
      "metadata": {
        "colab_type": "code",
        "id": "iIweDBXpXbjA",
        "colab": {}
      },
      "cell_type": "code",
      "source": [
        "# Arquitetura MLP com três Camadas Ocultas\n",
        "class MLP1(nn.Module):\n",
        "    \n",
        "    # Construtor da Classe MLP\n",
        "    def __init__(self):\n",
        "        super(MLP1, self).__init__()\n",
        "        self.fc1 = nn.Linear(32*32, 512)\n",
        "        self.fc2 = nn.Linear(512,   256)\n",
        "        self.fc3 = nn.Linear(256,   128)\n",
        "        self.fc4 = nn.Linear(128,    10)\n",
        "        self.activation_function = nn.ReLU()\n",
        "    \n",
        "    # Função Forward\n",
        "    def forward(self, x):\n",
        "        x = x.view(-1, 32*32)\n",
        "        x = self.activation_function(self.fc1(x))\n",
        "        x = self.activation_function(self.fc2(x))\n",
        "        x = self.activation_function(self.fc3(x))\n",
        "        x = self.activation_function(self.fc4(x))\n",
        "        return x\n",
        "\n",
        "# Arquitetura MLP com duas Camadas Ocultas\n",
        "class MLP2(nn.Module):\n",
        "    \n",
        "    # Construtor da Classe MLP\n",
        "    def __init__(self):\n",
        "        super(MLP2, self).__init__()\n",
        "        self.fc1 = nn.Linear(32*32, 512)\n",
        "        self.fc2 = nn.Linear(512,    50)\n",
        "        self.fc3 = nn.Linear(50,    10)\n",
        "        self.activation_function = nn.ReLU()\n",
        "    \n",
        "    # Função Forward\n",
        "    def forward(self, x):\n",
        "        x = x.view(-1, 32*32)\n",
        "        x = self.activation_function(self.fc1(x))\n",
        "        x = self.activation_function(self.fc2(x))\n",
        "        x = self.activation_function(self.fc3(x))\n",
        "        return x\n",
        "    "
      ],
      "execution_count": 0,
      "outputs": []
    },
    {
      "metadata": {
        "id": "qIpilrXRv8Ph",
        "colab_type": "text"
      },
      "cell_type": "markdown",
      "source": [
        "### Verificação se é possivel utilizar _cuda_"
      ]
    },
    {
      "metadata": {
        "colab_type": "code",
        "id": "jWu-v-q7XbjF",
        "outputId": "0050eade-fff6-4295-c68f-015408c24104",
        "colab": {
          "base_uri": "https://localhost:8080/",
          "height": 34
        }
      },
      "cell_type": "code",
      "source": [
        "# Confere se pode utilizar cuda\n",
        "device = torch.device(\"cuda:0\" if torch.cuda.is_available() else \"cpu\")\n",
        "\n",
        "# Imprime o dispotivo\n",
        "print(device)"
      ],
      "execution_count": 5,
      "outputs": [
        {
          "output_type": "stream",
          "text": [
            "cuda:0\n"
          ],
          "name": "stdout"
        }
      ]
    },
    {
      "metadata": {
        "id": "t-2y8r-Gv8Pp",
        "colab_type": "text"
      },
      "cell_type": "markdown",
      "source": [
        "### Impressão dos modelos"
      ]
    },
    {
      "metadata": {
        "colab_type": "code",
        "id": "Dtj4cSzfXbjK",
        "colab": {}
      },
      "cell_type": "code",
      "source": [
        "# Vai ser necessário 6 modelos, pois temos 3 Otimizadores e 2 modelos MLP\n",
        "# e será feito todas as combinações possiveis\n",
        "\n",
        "# Inicializa os 6 modelos\n",
        "models = []\n",
        "for i in range(6):\n",
        "    model = None\n",
        "    if i % 2 == 0:\n",
        "        model = MLP1()\n",
        "    else:\n",
        "        model = MLP2()\n",
        "    models.append(model.to(device))\n",
        "\n",
        "models_types = ('SGD + Model 1', 'SGD + Model 2',\n",
        "                'ADAM + Model 1', 'ADAM + Model 2', \n",
        "                'RMSprop + Model 1', 'RMSprop + Model 2')    \n",
        "\n",
        "# Imprime os modelos\n",
        "#print(models)\n",
        "#print(models_types)"
      ],
      "execution_count": 0,
      "outputs": []
    },
    {
      "metadata": {
        "id": "l1rsuJk2v8Px",
        "colab_type": "text"
      },
      "cell_type": "markdown",
      "source": [
        "# Definindo os Otimizadores e as Funções de Loss para cada Modelo"
      ]
    },
    {
      "metadata": {
        "colab_type": "code",
        "id": "BPgWmBhbXbjP",
        "colab": {}
      },
      "cell_type": "code",
      "source": [
        "# Inicialização\n",
        "i = 0\n",
        "optimizers = []\n",
        "\n",
        "# Os três primeiros utilizam SGD\n",
        "for _ in range(2):\n",
        "    optimizers.append(torch.optim.SGD(models[i].parameters(), lr=0.001, momentum=0.9))\n",
        "    i += 1\n",
        "\n",
        "# Os três seguintes utilizam ADAM\n",
        "for _ in range(2):\n",
        "    optimizers.append(torch.optim.Adam(models[i].parameters(), lr=0.001))\n",
        "    i += 1\n",
        "\n",
        "# Os três ultimos utilizam RMSprop\n",
        "for _ in range(2):\n",
        "    optimizers.append(torch.optim.RMSprop(models[i].parameters(), lr=0.001, momentum=0.9))\n",
        "    i += 1\n",
        "    \n",
        "#print(models_types)\n",
        "#print(optimizers)\n",
        "\n",
        "# Funções de Loss\n",
        "loss_CE = nn.CrossEntropyLoss()"
      ],
      "execution_count": 0,
      "outputs": []
    },
    {
      "metadata": {
        "id": "fJzsaiX8v8P4",
        "colab_type": "text"
      },
      "cell_type": "markdown",
      "source": [
        "# Definindo a função de Treinamento"
      ]
    },
    {
      "metadata": {
        "colab_type": "code",
        "id": "y5Gi1bc0XbjT",
        "colab": {}
      },
      "cell_type": "code",
      "source": [
        "# Função de Treinamento \n",
        "def train(dataset, model, optimizer, loss_fn, epochs=15):\n",
        "    \n",
        "    # Vetor de Loss Inicializado\n",
        "    loss_array = []\n",
        "    \n",
        "    # Percore pelo número de épocas\n",
        "    for epoch in range(epochs):\n",
        "        \n",
        "        # Inicializa o running_loss em 0\n",
        "        running_loss = 0.0\n",
        "        \n",
        "        # Percorre todo o dataset\n",
        "        for i, data in enumerate(dataset, 0):\n",
        "\n",
        "            # Pega a Entrada e o Label\n",
        "            input, label = data\n",
        "            \n",
        "            # Transforma para o device\n",
        "            input, label = input.to(device), label.to(device)\n",
        "\n",
        "            # Zera os parâmetros dos gradientes\n",
        "            optimizer.zero_grad()\n",
        "            \n",
        "            # Passa as entradas pelo modelo\n",
        "            output = model(input)\n",
        "            \n",
        "            # Calcula o loss com a função escolhida\n",
        "            loss = loss_fn(output, label)\n",
        "            \n",
        "            # Propaga o erro\n",
        "            loss.backward()\n",
        "            \n",
        "            # Atualiza os pesos\n",
        "            optimizer.step()\n",
        "            \n",
        "            # Soma ao loss\n",
        "            running_loss += loss.item()\n",
        "        \n",
        "        # Imprime o loss desta época\n",
        "        loss_array.append(running_loss/len(dataset))\n",
        "        print('[%3d] loss: %.4f' %\n",
        "             (epoch + 1, loss_array[-1]))\n",
        "    \n",
        "    # Retorna o array com os Loss em cada época\n",
        "    return loss_array\n"
      ],
      "execution_count": 0,
      "outputs": []
    },
    {
      "metadata": {
        "id": "RQESjndav8P_",
        "colab_type": "text"
      },
      "cell_type": "markdown",
      "source": [
        "# Definindo a Função de Avalaliação do Dataset por um modelo especifico"
      ]
    },
    {
      "metadata": {
        "colab_type": "code",
        "id": "HlQ7NaqPXbja",
        "colab": {}
      },
      "cell_type": "code",
      "source": [
        "\n",
        "# Função de avaliação do modelo num conjunto passado\n",
        "def evaluate(dataset, model, type_of_images='test'):\n",
        "    \n",
        "    # Inicialização\n",
        "    correct, total = 0, 0\n",
        "    \n",
        "    # Percorre todo o dataset\n",
        "    with torch.no_grad():\n",
        "        for data in dataset:\n",
        "            \n",
        "            # Transforma para o device\n",
        "            image, label = data\n",
        "            image, label = image.to(device), label.to(device)\n",
        "            \n",
        "            # Recebe a saida do modelo\n",
        "            output = model(image)\n",
        "            \n",
        "            # Faz o resultado dos labels das saidas\n",
        "            _, predicted = torch.max(output.data, 1)\n",
        "            \n",
        "            # Confere se o resultado foi igual o label para dar acerto\n",
        "            total += label.size(0)\n",
        "            correct += (predicted == label).sum().item()\n",
        "    \n",
        "    # Imprime a acurácia do dataset para tal modelo\n",
        "    print('Accuracy of the network on the %d %s images: %d %%' % \n",
        "          ( len(test_loader),  type_of_images, 100 * correct / total))\n",
        "    \n",
        "    # Retorna a acurácia\n",
        "    return (100 * correct / total)\n"
      ],
      "execution_count": 0,
      "outputs": []
    },
    {
      "metadata": {
        "colab_type": "code",
        "id": "hs78u5teXbjk",
        "colab": {}
      },
      "cell_type": "code",
      "source": [
        "# __TREINAMENTO DOS MODELOS__"
      ],
      "execution_count": 0,
      "outputs": []
    },
    {
      "metadata": {
        "id": "fE3aTUvPv8QL",
        "colab_type": "code",
        "colab": {
          "base_uri": "https://localhost:8080/",
          "height": 34
        },
        "outputId": "2864419d-574e-4db1-e896-11230b295bb1"
      },
      "cell_type": "code",
      "source": [
        "print(models_types)\n",
        "loss_array = []\n",
        "acuracies = []"
      ],
      "execution_count": 12,
      "outputs": [
        {
          "output_type": "stream",
          "text": [
            "('SGD + Model 1', 'SGD + Model 2', 'ADAM + Model 1', 'ADAM + Model 2', 'RMSprop + Model 1', 'RMSprop + Model 2')\n"
          ],
          "name": "stdout"
        }
      ]
    },
    {
      "metadata": {
        "id": "yPYaysChv8QT",
        "colab_type": "text"
      },
      "cell_type": "markdown",
      "source": [
        "### Utilizando SGD + Modelo 1"
      ]
    },
    {
      "metadata": {
        "id": "ERyKAygUv8QU",
        "colab_type": "code",
        "colab": {
          "base_uri": "https://localhost:8080/",
          "height": 289
        },
        "outputId": "6a9afad8-8be5-43dc-cd1a-c1029b9372e5"
      },
      "cell_type": "code",
      "source": [
        "print(models_types[0])\n",
        "loss_array.append(train(train_loader, models[0], optimizers[0], loss_CE))"
      ],
      "execution_count": 13,
      "outputs": [
        {
          "output_type": "stream",
          "text": [
            "SGD + Model 1\n",
            "[  1] loss: 2.2972\n",
            "[  2] loss: 2.2660\n",
            "[  3] loss: 2.2106\n",
            "[  4] loss: 2.1760\n",
            "[  5] loss: 2.1356\n",
            "[  6] loss: 2.0967\n",
            "[  7] loss: 2.0719\n",
            "[  8] loss: 2.0525\n",
            "[  9] loss: 2.0338\n",
            "[ 10] loss: 2.0156\n",
            "[ 11] loss: 1.9954\n",
            "[ 12] loss: 1.9468\n",
            "[ 13] loss: 1.8886\n",
            "[ 14] loss: 1.8572\n",
            "[ 15] loss: 1.8231\n"
          ],
          "name": "stdout"
        }
      ]
    },
    {
      "metadata": {
        "id": "pP76gHr7v8QZ",
        "colab_type": "text"
      },
      "cell_type": "markdown",
      "source": [
        "### Utilizando SGD + Modelo 2"
      ]
    },
    {
      "metadata": {
        "id": "PDCowyaZv8Qb",
        "colab_type": "code",
        "colab": {
          "base_uri": "https://localhost:8080/",
          "height": 289
        },
        "outputId": "98f5faeb-5ba8-4dfe-bf73-065c46298b1b"
      },
      "cell_type": "code",
      "source": [
        "print(models_types[1])\n",
        "loss_array.append(train(train_loader, models[1], optimizers[1], loss_CE))"
      ],
      "execution_count": 14,
      "outputs": [
        {
          "output_type": "stream",
          "text": [
            "SGD + Model 2\n",
            "[  1] loss: 2.2798\n",
            "[  2] loss: 2.2031\n",
            "[  3] loss: 2.1387\n",
            "[  4] loss: 2.1106\n",
            "[  5] loss: 2.0914\n",
            "[  6] loss: 2.0750\n",
            "[  7] loss: 2.0610\n",
            "[  8] loss: 2.0478\n",
            "[  9] loss: 2.0346\n",
            "[ 10] loss: 2.0213\n",
            "[ 11] loss: 2.0088\n",
            "[ 12] loss: 1.9960\n",
            "[ 13] loss: 1.9841\n",
            "[ 14] loss: 1.9736\n",
            "[ 15] loss: 1.9624\n"
          ],
          "name": "stdout"
        }
      ]
    },
    {
      "metadata": {
        "id": "KSp2tNLiv8Qh",
        "colab_type": "text"
      },
      "cell_type": "markdown",
      "source": [
        "### Utilizando ADAM + Modelo 1"
      ]
    },
    {
      "metadata": {
        "id": "aKtuzajrv8Qi",
        "colab_type": "code",
        "colab": {
          "base_uri": "https://localhost:8080/",
          "height": 289
        },
        "outputId": "65fe0555-1719-4f6d-ec46-979bb6714bbe"
      },
      "cell_type": "code",
      "source": [
        "print(models_types[2])\n",
        "loss_array.append(train(train_loader, models[2], optimizers[2], loss_CE))"
      ],
      "execution_count": 15,
      "outputs": [
        {
          "output_type": "stream",
          "text": [
            "ADAM + Model 1\n",
            "[  1] loss: 2.3027\n",
            "[  2] loss: 2.3026\n",
            "[  3] loss: 2.3026\n",
            "[  4] loss: 2.3026\n",
            "[  5] loss: 2.3026\n",
            "[  6] loss: 2.3026\n",
            "[  7] loss: 2.3026\n",
            "[  8] loss: 2.3026\n",
            "[  9] loss: 2.3026\n",
            "[ 10] loss: 2.3026\n",
            "[ 11] loss: 2.3026\n",
            "[ 12] loss: 2.3026\n",
            "[ 13] loss: 2.3026\n",
            "[ 14] loss: 2.3026\n",
            "[ 15] loss: 2.3026\n"
          ],
          "name": "stdout"
        }
      ]
    },
    {
      "metadata": {
        "id": "SGyblTz4v8Qq",
        "colab_type": "text"
      },
      "cell_type": "markdown",
      "source": [
        "### Utilizando ADAM + Modelo 2"
      ]
    },
    {
      "metadata": {
        "id": "UxlnV1-6v8Qs",
        "colab_type": "code",
        "colab": {
          "base_uri": "https://localhost:8080/",
          "height": 289
        },
        "outputId": "8ecafc9f-6627-476b-801a-50ffb899f47b"
      },
      "cell_type": "code",
      "source": [
        "print(models_types[3])\n",
        "loss_array.append(train(train_loader, models[3], optimizers[3], loss_CE))"
      ],
      "execution_count": 16,
      "outputs": [
        {
          "output_type": "stream",
          "text": [
            "ADAM + Model 2\n",
            "[  1] loss: 2.3027\n",
            "[  2] loss: 2.3026\n",
            "[  3] loss: 2.3026\n",
            "[  4] loss: 2.3026\n",
            "[  5] loss: 2.3026\n",
            "[  6] loss: 2.3026\n",
            "[  7] loss: 2.3026\n",
            "[  8] loss: 2.3026\n",
            "[  9] loss: 2.3026\n",
            "[ 10] loss: 2.3026\n",
            "[ 11] loss: 2.3026\n",
            "[ 12] loss: 2.3026\n",
            "[ 13] loss: 2.3026\n",
            "[ 14] loss: 2.3026\n",
            "[ 15] loss: 2.3026\n"
          ],
          "name": "stdout"
        }
      ]
    },
    {
      "metadata": {
        "id": "lEmZ_1fqv8Qz",
        "colab_type": "text"
      },
      "cell_type": "markdown",
      "source": [
        "### Utilizando RMSprop + Modelo 1"
      ]
    },
    {
      "metadata": {
        "id": "f4QgTPIOv8Q3",
        "colab_type": "code",
        "colab": {
          "base_uri": "https://localhost:8080/",
          "height": 289
        },
        "outputId": "222f3217-ee9d-419a-f90d-ea65dadd1f5a"
      },
      "cell_type": "code",
      "source": [
        "print(models_types[4])\n",
        "loss_array.append(train(train_loader, models[4], optimizers[4], loss_CE))"
      ],
      "execution_count": 17,
      "outputs": [
        {
          "output_type": "stream",
          "text": [
            "RMSprop + Model 1\n",
            "[  1] loss: 2.3341\n",
            "[  2] loss: 2.3026\n",
            "[  3] loss: 2.3026\n",
            "[  4] loss: 2.3026\n",
            "[  5] loss: 2.3026\n",
            "[  6] loss: 2.3026\n",
            "[  7] loss: 2.3026\n",
            "[  8] loss: 2.3026\n",
            "[  9] loss: 2.3026\n",
            "[ 10] loss: 2.3026\n",
            "[ 11] loss: 2.3026\n",
            "[ 12] loss: 2.3026\n",
            "[ 13] loss: 2.3026\n",
            "[ 14] loss: 2.3026\n",
            "[ 15] loss: 2.3026\n"
          ],
          "name": "stdout"
        }
      ]
    },
    {
      "metadata": {
        "id": "cHyTub7uv8Q9",
        "colab_type": "text"
      },
      "cell_type": "markdown",
      "source": [
        "### Utilizado RMSprop + Modelo 2"
      ]
    },
    {
      "metadata": {
        "id": "sTWuG1Rtv8RA",
        "colab_type": "code",
        "colab": {
          "base_uri": "https://localhost:8080/",
          "height": 289
        },
        "outputId": "afc5c639-611a-4e8e-ace1-08b60aa6c355"
      },
      "cell_type": "code",
      "source": [
        "print(models_types[5])\n",
        "loss_array.append(train(train_loader, models[5], optimizers[5], loss_CE))"
      ],
      "execution_count": 18,
      "outputs": [
        {
          "output_type": "stream",
          "text": [
            "RMSprop + Model 2\n",
            "[  1] loss: 2.3296\n",
            "[  2] loss: 2.3026\n",
            "[  3] loss: 2.3026\n",
            "[  4] loss: 2.3026\n",
            "[  5] loss: 2.3026\n",
            "[  6] loss: 2.3026\n",
            "[  7] loss: 2.3026\n",
            "[  8] loss: 2.3026\n",
            "[  9] loss: 2.3026\n",
            "[ 10] loss: 2.3026\n",
            "[ 11] loss: 2.3026\n",
            "[ 12] loss: 2.3026\n",
            "[ 13] loss: 2.3026\n",
            "[ 14] loss: 2.3026\n",
            "[ 15] loss: 2.3026\n"
          ],
          "name": "stdout"
        }
      ]
    },
    {
      "metadata": {
        "id": "CSY0fhwmv8RF",
        "colab_type": "text"
      },
      "cell_type": "markdown",
      "source": [
        "## Gráficos da Loss em Cada Época para todos os modelos"
      ]
    },
    {
      "metadata": {
        "id": "KEcSw-kbv8RG",
        "colab_type": "code",
        "colab": {
          "base_uri": "https://localhost:8080/",
          "height": 1787
        },
        "outputId": "13f8fe76-99ff-4eb6-b66d-f0912981f6ed"
      },
      "cell_type": "code",
      "source": [
        "acuracies = []\n",
        "# Passa por Todos os modelos\n",
        "for i in range(6):\n",
        "    # Imprime o Gráfico de Desempenho de Loss\n",
        "    plt.title(models_types[i])\n",
        "    plt.xlabel('Epochs')\n",
        "    plt.ylabel('Loss')\n",
        "    plt.plot(loss_array[i], 'b-')\n",
        "    plt.show()\n",
        "    \n",
        "    # Imprime a acurácia do Dataset de Teste\n",
        "    acuracies.append(evaluate(test_loader, models[i]))"
      ],
      "execution_count": 24,
      "outputs": [
        {
          "output_type": "display_data",
          "data": {
            "image/png": "[encoded data removed]",
            "text/plain": [
              "<Figure size 432x288 with 1 Axes>"
            ]
          },
          "metadata": {
            "tags": []
          }
        },
        {
          "output_type": "stream",
          "text": [
            "Accuracy of the network on the 200 test images: 35 %\n"
          ],
          "name": "stdout"
        },
        {
          "output_type": "display_data",
          "data": {
            "image/png": "[encoded data removed]",
            "text/plain": [
              "<Figure size 432x288 with 1 Axes>"
            ]
          },
          "metadata": {
            "tags": []
          }
        },
        {
          "output_type": "stream",
          "text": [
            "Accuracy of the network on the 200 test images: 32 %\n"
          ],
          "name": "stdout"
        },
        {
          "output_type": "display_data",
          "data": {
            "image/png": "[encoded data removed]",
            "text/plain": [
              "<Figure size 432x288 with 1 Axes>"
            ]
          },
          "metadata": {
            "tags": []
          }
        },
        {
          "output_type": "stream",
          "text": [
            "Accuracy of the network on the 200 test images: 10 %\n"
          ],
          "name": "stdout"
        },
        {
          "output_type": "display_data",
          "data": {
            "image/png": "[encoded data removed]",
            "text/plain": [
              "<Figure size 432x288 with 1 Axes>"
            ]
          },
          "metadata": {
            "tags": []
          }
        },
        {
          "output_type": "stream",
          "text": [
            "Accuracy of the network on the 200 test images: 10 %\n"
          ],
          "name": "stdout"
        },
        {
          "output_type": "display_data",
          "data": {
            "image/png": "[encoded data removed]",
            "text/plain": [
              "<Figure size 432x288 with 1 Axes>"
            ]
          },
          "metadata": {
            "tags": []
          }
        },
        {
          "output_type": "stream",
          "text": [
            "Accuracy of the network on the 200 test images: 10 %\n"
          ],
          "name": "stdout"
        },
        {
          "output_type": "display_data",
          "data": {
            "image/png": "[encoded data removed]",
            "text/plain": [
              "<Figure size 432x288 with 1 Axes>"
            ]
          },
          "metadata": {
            "tags": []
          }
        },
        {
          "output_type": "stream",
          "text": [
            "Accuracy of the network on the 200 test images: 10 %\n"
          ],
          "name": "stdout"
        }
      ]
    },
    {
      "metadata": {
        "id": "B0RdKg5jv8RK",
        "colab_type": "text"
      },
      "cell_type": "markdown",
      "source": [
        "## Gráficos de Barras diferenciando a acurácia entre cada modelo"
      ]
    },
    {
      "metadata": {
        "id": "Qv_M7_Oqv8RL",
        "colab_type": "code",
        "colab": {
          "base_uri": "https://localhost:8080/",
          "height": 371
        },
        "outputId": "b9448656-9a25-4906-9115-c9947a91e579"
      },
      "cell_type": "code",
      "source": [
        "# Testar isso aqui\n",
        "x = np.arange(6)\n",
        "\n",
        "plt.bar(x, acuracies)\n",
        "plt.xticks(x, x)\n",
        "plt.show()\n",
        "\n",
        "for i in range(6):\n",
        "    print(i, '-', models_types[i])"
      ],
      "execution_count": 25,
      "outputs": [
        {
          "output_type": "display_data",
          "data": {
            "image/png": "[encoded data removed]",
            "text/plain": [
              "<Figure size 432x288 with 1 Axes>"
            ]
          },
          "metadata": {
            "tags": []
          }
        },
        {
          "output_type": "stream",
          "text": [
            "0 - SGD + Model 1\n",
            "1 - SGD + Model 2\n",
            "2 - ADAM + Model 1\n",
            "3 - ADAM + Model 2\n",
            "4 - RMSprop + Model 1\n",
            "5 - RMSprop + Model 2\n"
          ],
          "name": "stdout"
        }
      ]
    }
  ]
}