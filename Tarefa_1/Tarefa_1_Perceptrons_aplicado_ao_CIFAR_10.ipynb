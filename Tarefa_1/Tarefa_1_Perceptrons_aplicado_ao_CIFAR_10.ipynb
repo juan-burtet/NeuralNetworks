{
 "cells": [
  {
   "cell_type": "markdown",
   "metadata": {
    "colab_type": "text",
    "id": "gG2EyT6N8-Bb"
   },
   "source": [
    "# Objetivos deste trabalho:\n",
    "- Se familiarizar com o ambiente Notebook e com Python\n",
    "- Implementar um perceptron simples, treiná-lo no conjunto de TREINO do CIFAR-10 e avaliá-lo no conjunto de TESTE (alvo: distinguir fotos de animais de meios de transporte)\n",
    "- Utilizar a função sigmóide e verificar seu efeito no treinamento e na avaliação\n",
    "- Modificar a metodologia para classificar cada classe individualmente (i.e. treinar 10 perceptrons, um para cada classe). Considerar: dado um exemplo, que passará por cada perceptron, como decidir qual é a classe dele?"
   ]
  },
  {
   "cell_type": "code",
   "execution_count": 1,
   "metadata": {
    "colab": {},
    "colab_type": "code",
    "id": "B80We9jZ8-Be"
   },
   "outputs": [
    {
     "data": {
      "text/plain": [
       "{'divide': 'warn', 'over': 'warn', 'under': 'ignore', 'invalid': 'warn'}"
      ]
     },
     "execution_count": 1,
     "metadata": {},
     "output_type": "execute_result"
    }
   ],
   "source": [
    "%matplotlib inline\n",
    "\n",
    "import torch\n",
    "import torchvision\n",
    "import numpy as np\n",
    "\n",
    "np.seterr(all='raise')"
   ]
  },
  {
   "cell_type": "code",
   "execution_count": 2,
   "metadata": {
    "colab": {},
    "colab_type": "code",
    "id": "2bdAqYkz8-Bk"
   },
   "outputs": [
    {
     "name": "stdout",
     "output_type": "stream",
     "text": [
      "Files already downloaded and verified\n",
      "Files already downloaded and verified\n"
     ]
    }
   ],
   "source": [
    "# Carregar os datasets\n",
    "\n",
    "dataset_train = torchvision.datasets.CIFAR10(root='./data', train=True,\n",
    "                                        download=True)\n",
    "\n",
    "dataset_test = torchvision.datasets.CIFAR10(root='./data', train=False,\n",
    "                                        download=True)"
   ]
  },
  {
   "cell_type": "code",
   "execution_count": 3,
   "metadata": {
    "colab": {},
    "colab_type": "code",
    "id": "raCuqA8M8-Bq"
   },
   "outputs": [],
   "source": [
    "classes = ('plane', 'car', 'bird', 'cat',\n",
    "           'deer', 'dog', 'frog', 'horse', 'ship', 'truck')"
   ]
  },
  {
   "cell_type": "code",
   "execution_count": 4,
   "metadata": {
    "colab": {},
    "colab_type": "code",
    "id": "bnhTzof_8-Bv"
   },
   "outputs": [
    {
     "name": "stdout",
     "output_type": "stream",
     "text": [
      "50000 10000\n"
     ]
    }
   ],
   "source": [
    "print(len(dataset_train), len(dataset_test))"
   ]
  },
  {
   "cell_type": "code",
   "execution_count": 5,
   "metadata": {
    "colab": {},
    "colab_type": "code",
    "id": "3Yc8Sdu48-B1"
   },
   "outputs": [],
   "source": [
    "# Converter para tons de cinza\n",
    "\n",
    "# Treino\n",
    "grayscale_dataset_train = []\n",
    "for img,label in dataset_train:\n",
    "    category = classes[label]\n",
    "    gray_npimg = np.array(img.convert('L'))\n",
    "    grayscale_dataset_train.append((gray_npimg,category))\n",
    "    \n",
    "# Teste\n",
    "grayscale_dataset_test = []\n",
    "for img,label in dataset_test:\n",
    "    category = classes[label]\n",
    "    gray_npimg = np.array(img.convert('L'))\n",
    "    grayscale_dataset_test.append((gray_npimg,category))    "
   ]
  },
  {
   "cell_type": "code",
   "execution_count": 6,
   "metadata": {
    "colab": {},
    "colab_type": "code",
    "id": "7Z2EgrH28-B5"
   },
   "outputs": [
    {
     "data": {
      "image/png": "[encoded data removed]",
      "text/plain": [
       "<Figure size 432x288 with 1 Axes>"
      ]
     },
     "metadata": {
      "needs_background": "light"
     },
     "output_type": "display_data"
    }
   ],
   "source": [
    "# Mostrar uma imagem\n",
    "\n",
    "import matplotlib.pyplot as plt\n",
    "import numpy as np\n",
    "\n",
    "image_index = 1\n",
    "label = grayscale_dataset_train[image_index][1]\n",
    "npimg = grayscale_dataset_train[image_index][0]\n",
    "\n",
    "plt.imshow(npimg, cmap='gray')\n",
    "plt.title(label)\n",
    "plt.show()"
   ]
  },
  {
   "cell_type": "code",
   "execution_count": 7,
   "metadata": {
    "colab": {},
    "colab_type": "code",
    "id": "txlq-sxf8-B8"
   },
   "outputs": [],
   "source": [
    "# Converter para vetores 1D\n",
    "\n",
    "# Para pensar: por que a divisão por 255 no código abaixo?\n",
    "\n",
    "linear_dataset_train = []\n",
    "target_labels = ('plane', 'car', 'ship', 'truck')\n",
    "for img,category in grayscale_dataset_train:\n",
    "    linear_img = img.reshape(img.shape[0]*img.shape[1],1) / 255\n",
    "    if category in target_labels:\n",
    "        label = 1\n",
    "    else:\n",
    "        label = 0\n",
    "    linear_dataset_train.append((linear_img,label))\n",
    "    \n",
    "linear_dataset_test = []\n",
    "target_labels = ('plane', 'car', 'ship', 'truck')\n",
    "for img,category in grayscale_dataset_test:\n",
    "    linear_img = img.reshape(img.shape[0]*img.shape[1],1) / 255\n",
    "    if category in target_labels:\n",
    "        label = 1\n",
    "    else:\n",
    "        label = 0\n",
    "    linear_dataset_test.append((linear_img,label))    "
   ]
  },
  {
   "cell_type": "code",
   "execution_count": 8,
   "metadata": {
    "colab": {},
    "colab_type": "code",
    "id": "nCnBU8gk8-B_"
   },
   "outputs": [
    {
     "name": "stdout",
     "output_type": "stream",
     "text": [
      "1024\n"
     ]
    }
   ],
   "source": [
    "size = len(linear_dataset_train[0][0])\n",
    "print(size)"
   ]
  },
  {
   "cell_type": "markdown",
   "metadata": {
    "colab_type": "text",
    "id": "eZOWSvEC8-CD"
   },
   "source": [
    "# Definindo o perceptron"
   ]
  },
  {
   "cell_type": "code",
   "execution_count": 9,
   "metadata": {
    "colab": {},
    "colab_type": "code",
    "id": "Gd_PLZ5G8-CD"
   },
   "outputs": [],
   "source": [
    "# Função Sigmoid\n",
    "def sigmoid(x):\n",
    "    return 1/(1+np.exp(-x))\n",
    "\n",
    "# Função Degrau\n",
    "def step(x):\n",
    "    if x > 0:\n",
    "        return 1\n",
    "    else:\n",
    "        return 0  \n",
    "\n",
    "# Função Perceptron\n",
    "def perceptron(inputs, weights):\n",
    "    \n",
    "    # Soma de todas entradas multiplicadas pelos pesos\n",
    "    o = np.sum(inputs * weights)\n",
    "    \n",
    "    # Função de ativação\n",
    "    y = sigmoid(o)\n",
    "    \n",
    "    # Retorna o resultado do perceptron\n",
    "    return y\n",
    "  "
   ]
  },
  {
   "cell_type": "markdown",
   "metadata": {
    "colab_type": "text",
    "id": "9maZy76r8-CG"
   },
   "source": [
    "# Treinando o perceptron"
   ]
  },
  {
   "cell_type": "code",
   "execution_count": 10,
   "metadata": {
    "colab": {},
    "colab_type": "code",
    "id": "tCbZ2f498-CH"
   },
   "outputs": [],
   "source": [
    "# Função que retorna os valores\n",
    "# True Positive, False Positive, True Negative e False Negative\n",
    "def evaluate(weights, dataset):\n",
    "    \n",
    "    # Inicialização\n",
    "    tp, fp, fn, tn = 0, 0, 0, 0\n",
    "    \n",
    "    # Percorre todas as imagens do dataset\n",
    "    for img,label in dataset:\n",
    "        \n",
    "        # Adiciona o bias no fim da imagem\n",
    "        img = np.append(img, 1)\n",
    "        \n",
    "        # Saida do perceptron\n",
    "        y = perceptron(img, weights)\n",
    "        \n",
    "        # Acima de 0.8 considera que é 1, abaixo é 0\n",
    "        s = y\n",
    "        if y > 0.5:\n",
    "            s = 1\n",
    "        else:\n",
    "            s = 0\n",
    "        \n",
    "        # Se o label == 1\n",
    "        if label == 1:\n",
    "            \n",
    "            # e a saida é 1, é verdadeiro positivo\n",
    "            if s == 1:\n",
    "                tp += 1\n",
    "            \n",
    "            # Se a saida é 0, é falso negativo\n",
    "            else:\n",
    "                fn += 1\n",
    "        # Se o label == 0\n",
    "        else:\n",
    "          \n",
    "            # e a saída é 1, é falso positivo\n",
    "            if s == 1:\n",
    "                fp += 1\n",
    "            \n",
    "            # Se a saída é 0, é verdadeiro negativo\n",
    "            else:\n",
    "                tn += 1\n",
    "          \n",
    "    # Acuracia\n",
    "    acuracy = (tp + tn) / (tp + tn + fp + fn)\n",
    "    \n",
    "    # Sensitividade\n",
    "    recall = tp / (tp + fn)\n",
    "    \n",
    "    # Especificidade\n",
    "    specificity = tn / (tn + fp)\n",
    "    \n",
    "    # Retorna os 3\n",
    "    return acuracy, recall, specificity\n"
   ]
  },
  {
   "cell_type": "code",
   "execution_count": 11,
   "metadata": {
    "colab": {
     "base_uri": "https://localhost:8080/",
     "height": 493
    },
    "colab_type": "code",
    "id": "awyfq1rQ8-CJ",
    "outputId": "0d2cf0fa-ed9e-4323-bcaa-b110c4a7ebb5"
   },
   "outputs": [
    {
     "name": "stdout",
     "output_type": "stream",
     "text": [
      "Epoch 1: 0.69516\n",
      "Epoch 2: 0.69422\n",
      "Epoch 3: 0.7003\n",
      "Epoch 4: 0.70248\n",
      "Epoch 5: 0.70838\n",
      "Epoch 6: 0.70804\n",
      "Epoch 7: 0.71268\n",
      "Epoch 8: 0.71556\n",
      "Epoch 9: 0.71658\n",
      "Epoch 10: 0.70954\n",
      "Epoch 11: 0.71822\n",
      "Epoch 12: 0.71812\n",
      "Epoch 13: 0.71746\n",
      "Epoch 14: 0.71784\n",
      "Epoch 15: 0.71952\n",
      "Epoch 16: 0.71996\n",
      "Epoch 17: 0.71538\n",
      "Epoch 18: 0.72286\n",
      "Epoch 19: 0.72226\n",
      "Epoch 20: 0.72582\n",
      "Epoch 21: 0.7262\n",
      "Epoch 22: 0.7225\n",
      "Epoch 23: 0.70682\n",
      "Epoch 24: 0.72366\n",
      "Epoch 25: 0.72778\n",
      "Epoch 26: 0.72776\n",
      "Epoch 27: 0.7268\n",
      "Epoch 28: 0.72738\n",
      "Epoch 29: 0.72918\n",
      "Epoch 30: 0.72944\n",
      "Epoch 31: 0.7294\n",
      "Epoch 32: 0.72984\n",
      "Epoch 33: 0.72616\n",
      "Epoch 34: 0.7298\n",
      "Epoch 35: 0.72946\n",
      "Epoch 36: 0.73\n",
      "Epoch 37: 0.72812\n",
      "Epoch 38: 0.72692\n",
      "Epoch 39: 0.73084\n",
      "Epoch 40: 0.73122\n",
      "Epoch 41: 0.72958\n",
      "Epoch 42: 0.72656\n",
      "Epoch 43: 0.73068\n",
      "Epoch 44: 0.73048\n",
      "Epoch 45: 0.7268\n",
      "Epoch 46: 0.73212\n",
      "Epoch 47: 0.72948\n",
      "Epoch 48: 0.72662\n",
      "Epoch 49: 0.72942\n",
      "Epoch 50: 0.72398\n"
     ]
    }
   ],
   "source": [
    "# Inicialização\n",
    "weights = (np.random.rand(1,size) - 0.5)[0]\n",
    "bias = (np.random.rand(1) - 0.5) \n",
    "weights = np.append(weights, bias) \n",
    "\n",
    "# Valor do Neta\n",
    "neta = 0.0001\n",
    "\n",
    "# Valor do momento\n",
    "momentum = 0.9\n",
    "\n",
    "# Lista de todas as acuracias por época\n",
    "accuracies, recalls, specificities = [], [], []\n",
    "\n",
    "# Delta_w anterior\n",
    "w = 0\n",
    "\n",
    "# Épocas\n",
    "for epoch in range(50):\n",
    "    \n",
    "    # A cada época, dá shuffle no dataset\n",
    "    np.random.shuffle(linear_dataset_train)\n",
    "    \n",
    "    # Para cada exemplo no dataset de treino \n",
    "    for img, label in linear_dataset_train:\n",
    "      \n",
    "        # Adiciona o valor do Bias no fim da imagem\n",
    "        img = np.append(img, 1)\n",
    "\n",
    "        # Saída do Perceptron\n",
    "        y = perceptron(img, weights)\n",
    "\n",
    "        # Atualização dos pesos\n",
    "        loss = momentum * w + (label - y) * neta * img * (y * (1-y))\n",
    "        weights += loss\n",
    "        w = loss\n",
    "    \n",
    "    # Saida do evaluate contendo Acurácia, Sensitividade e Especificidade\n",
    "    out = evaluate(weights, linear_dataset_train)\n",
    "    \n",
    "    # Adiciona os valores do evaluate\n",
    "    accuracies.append(out[0])\n",
    "    recalls.append(out[1]) \n",
    "    specificities.append(out[2])\n",
    "    \n",
    "    # Printa a Acurácia\n",
    "    print('Epoch ' + str(epoch + 1) + ':', accuracies[-1])"
   ]
  },
  {
   "cell_type": "code",
   "execution_count": 12,
   "metadata": {
    "colab": {},
    "colab_type": "code",
    "id": "YAdffbD28-CN"
   },
   "outputs": [
    {
     "name": "stdout",
     "output_type": "stream",
     "text": [
      "Acurácia do Teste: 0.7161\n",
      "Sensitividade do Teste: 0.61525\n",
      "Especificidade do Teste: 0.7833333333333333\n"
     ]
    }
   ],
   "source": [
    "# Avalie o modelo treinado aqui\n",
    "# Como a acurácia no conjunto de teste se compara com a acurácia obtida no conjunto de treino?\n",
    "\n",
    "test_acuracie, test_recall, test_specificity  = evaluate(weights, linear_dataset_test) \n",
    "print('Acurácia do Teste:', test_acuracie)\n",
    "print('Sensitividade do Teste:', test_recall)\n",
    "print('Especificidade do Teste:', test_specificity)"
   ]
  },
  {
   "cell_type": "code",
   "execution_count": 13,
   "metadata": {
    "colab": {},
    "colab_type": "code",
    "id": "q3WXXb908-CQ"
   },
   "outputs": [
    {
     "data": {
      "image/png": "[encoded data removed]",
      "text/plain": [
       "<Figure size 432x288 with 1 Axes>"
      ]
     },
     "metadata": {
      "needs_background": "light"
     },
     "output_type": "display_data"
    },
    {
     "data": {
      "image/png": "[encoded data removed]",
      "text/plain": [
       "<Figure size 432x288 with 1 Axes>"
      ]
     },
     "metadata": {
      "needs_background": "light"
     },
     "output_type": "display_data"
    },
    {
     "data": {
      "image/png": "[encoded data removed]",
      "text/plain": [
       "<Figure size 432x288 with 1 Axes>"
      ]
     },
     "metadata": {
      "needs_background": "light"
     },
     "output_type": "display_data"
    }
   ],
   "source": [
    "# Caso queiram plotar alguma coisa\n",
    "import matplotlib.pyplot as plt\n",
    "\n",
    "# Gráfico da Acurácia\n",
    "plt.title('Acurácia')\n",
    "plt.xlabel('Epochs')\n",
    "plt.ylabel('%')\n",
    "plt.plot(accuracies, 'r-')\n",
    "plt.show()\n",
    "\n",
    "# Gráfico da Sensitividade\n",
    "plt.title('Sensitividade')\n",
    "plt.xlabel('Epochs')\n",
    "plt.ylabel('%')\n",
    "plt.plot(recalls, 'g-')\n",
    "plt.show()\n",
    "\n",
    "# Gráfico da Especificidade\n",
    "plt.title('Especificidade')\n",
    "plt.xlabel('Epochs')\n",
    "plt.ylabel('%')\n",
    "plt.plot(specificities, 'b-')\n",
    "plt.show()\n"
   ]
  },
  {
   "cell_type": "markdown",
   "metadata": {
    "colab_type": "text",
    "id": "VlFrNP3H8-CS"
   },
   "source": [
    "# Classificando classes individuais\n",
    "\n",
    "Implemente aqui a modificação do processo de avaliação e treinamento para poder classificar cada classe individualmente.\n",
    "\n",
    "- Ideia geral: treinar um perceptron por classe (exemplo positivo = exemplos da classe; exemplos negativos = exemplo de todas outras classes)\n",
    "- Dado um exemplo qualquer, como decidir qual perceptron está dando a classe correta?"
   ]
  },
  {
   "cell_type": "markdown",
   "metadata": {
    "colab": {},
    "colab_type": "code",
    "id": "rX9E94bv8-CS"
   },
   "source": [
    "## Transformando o Dataset em um Vetor de 1D + Label real"
   ]
  },
  {
   "cell_type": "code",
   "execution_count": 14,
   "metadata": {},
   "outputs": [],
   "source": [
    "# Dataset de treino\n",
    "label_dataset_train = []\n",
    "for img, label in grayscale_dataset_train:\n",
    "    linear_img = img.reshape(img.shape[0]*img.shape[1],1) / 255\n",
    "    label_dataset_train.append((linear_img, label))\n",
    "\n",
    "# Dataset de Teste\n",
    "label_dataset_test = []\n",
    "for img, label in grayscale_dataset_test:\n",
    "    linear_img = img.reshape(img.shape[0]*img.shape[1],1) / 255\n",
    "    label_dataset_test.append((linear_img, label))"
   ]
  },
  {
   "cell_type": "markdown",
   "metadata": {},
   "source": [
    "## Função de evaluate utilizando todos os Perceptrons"
   ]
  },
  {
   "cell_type": "code",
   "execution_count": 18,
   "metadata": {},
   "outputs": [],
   "source": [
    "# Função que retorna o softmax dos vetores\n",
    "def softmax(ys):\n",
    "    \n",
    "    # Somatório de todos exponenciais\n",
    "    total = 0\n",
    "    for x in ys:\n",
    "        total += np.exp(x)\n",
    "    \n",
    "    # Vetor com todos os valores em softmax\n",
    "    new_ys = []\n",
    "    for x in ys:\n",
    "        new_ys.append(np.exp(x)/total)\n",
    "\n",
    "# Função que retorna os valores\n",
    "# True Positive, False Positive, True Negative e False Negative\n",
    "def evaluate_classes(weights, classes, dataset):\n",
    "    \n",
    "    # Inicialização\n",
    "    correct = 0\n",
    "    \n",
    "    # Percorre todas as imagens do dataset\n",
    "    for img, label in dataset:\n",
    "        \n",
    "        # Adiciona o bias no fim da imagem\n",
    "        img = np.append(img, 1)\n",
    "        \n",
    "        # Saida do perceptron\n",
    "        ys = []\n",
    "        for w in weights:\n",
    "            ys.append(perceptron(img, w))\n",
    "        \n",
    "        # Descobre o label do perceptron que indicou acerto\n",
    "        l = None\n",
    "        for i in range(len(ys)):\n",
    "            if max(ys) == ys[i]:\n",
    "                l = classes[i]\n",
    "                break;\n",
    "        \n",
    "        # Se o label for igual ao perceptron, acertou\n",
    "        if label == l:\n",
    "            correct += 1\n",
    "          \n",
    "    # Acuracia\n",
    "    acuracy = correct / len(dataset)\n",
    "    \n",
    "    # Retorna os 3\n",
    "    return acuracy"
   ]
  },
  {
   "cell_type": "markdown",
   "metadata": {},
   "source": [
    "## Treinando todos os Perceptrons"
   ]
  },
  {
   "cell_type": "code",
   "execution_count": 25,
   "metadata": {},
   "outputs": [
    {
     "name": "stdout",
     "output_type": "stream",
     "text": [
      "Epoch 1: 0.159\n",
      "Epoch 2: 0.18406\n",
      "Epoch 3: 0.2029\n",
      "Epoch 4: 0.2101\n",
      "Epoch 5: 0.2218\n",
      "Epoch 6: 0.22176\n",
      "Epoch 7: 0.23132\n",
      "Epoch 8: 0.20822\n",
      "Epoch 9: 0.24578\n",
      "Epoch 10: 0.25056\n",
      "Epoch 11: 0.2275\n",
      "Epoch 12: 0.23288\n",
      "Epoch 13: 0.22598\n",
      "Epoch 14: 0.26038\n",
      "Epoch 15: 0.26998\n",
      "Epoch 16: 0.25294\n",
      "Epoch 17: 0.26266\n",
      "Epoch 18: 0.2875\n",
      "Epoch 19: 0.27394\n",
      "Epoch 20: 0.27508\n",
      "Epoch 21: 0.26256\n",
      "Epoch 22: 0.26666\n",
      "Epoch 23: 0.26802\n",
      "Epoch 24: 0.30582\n",
      "Epoch 25: 0.31254\n",
      "Epoch 26: 0.31064\n",
      "Epoch 27: 0.28798\n",
      "Epoch 28: 0.27868\n",
      "Epoch 29: 0.30302\n",
      "Epoch 30: 0.31926\n"
     ]
    }
   ],
   "source": [
    "# Array com os Pesos pra cada Perceptron\n",
    "weight_classes = []\n",
    "for i in classes:\n",
    "    weight_classes.append((np.random.rand(1, size + 1) - 0.5)[0])\n",
    "\n",
    "# Valor do Neta\n",
    "neta = 0.01\n",
    "\n",
    "# Valor do momento\n",
    "momentum = 0.9\n",
    "\n",
    "# Lista de todas as acuracias por época\n",
    "accuracies = []\n",
    "\n",
    "# Épocas\n",
    "for epoch in range(30):\n",
    "    \n",
    "    # A cada época, dá shuffle no dataset\n",
    "    np.random.shuffle(label_dataset_train)\n",
    "    \n",
    "    # Para cada exemplo no dataset de treino \n",
    "    for img, label in label_dataset_train:\n",
    "      \n",
    "        # Adiciona o valor do Bias no fim da imagem\n",
    "        img = np.append(img, 1)\n",
    "        \n",
    "        # Saída de Todos os Perceptrons\n",
    "        ys = []\n",
    "        for w in weight_classes:\n",
    "            ys.append(perceptron(img, w))\n",
    "        \n",
    "        # Atualizando os Pesos de cada Perceptron\n",
    "        for i in range(len(weight_classes)):\n",
    "            \n",
    "            # Se o label da Imagem for igual o do Perceptron, fica 1\n",
    "            t = 0\n",
    "            if label == classes[i]:\n",
    "                t = 1\n",
    "            \n",
    "            # Atualização dos Pesos\n",
    "            loss = (t - ys[i]) * neta * img * (ys[i] * (1-ys[i]))\n",
    "            weight =  weight_classes[i] + loss\n",
    "            weight_classes[i] = weight\n",
    "    \n",
    "    # Adiciona os valores do evaluate\n",
    "    accuracies.append(evaluate_classes(weight_classes, classes, label_dataset_train))\n",
    "    \n",
    "    # Printa a Acurácia\n",
    "    print('Epoch ' + str(epoch + 1) + ':', accuracies[-1])"
   ]
  },
  {
   "cell_type": "markdown",
   "metadata": {},
   "source": [
    "# Gráfico da Acurácia de Treinamento"
   ]
  },
  {
   "cell_type": "code",
   "execution_count": 26,
   "metadata": {},
   "outputs": [
    {
     "data": {
      "image/png": "[encoded data removed]",
      "text/plain": [
       "<Figure size 432x288 with 1 Axes>"
      ]
     },
     "metadata": {
      "needs_background": "light"
     },
     "output_type": "display_data"
    }
   ],
   "source": [
    "# Caso queiram plotar alguma coisa\n",
    "import matplotlib.pyplot as plt\n",
    "\n",
    "# Gráfico da Acurácia\n",
    "plt.title('Acurácia')\n",
    "plt.xlabel('Epochs')\n",
    "plt.ylabel('%')\n",
    "plt.plot(accuracies, 'r-')\n",
    "plt.show()\n"
   ]
  },
  {
   "cell_type": "markdown",
   "metadata": {},
   "source": [
    "# Teste do Dataset de Teste"
   ]
  },
  {
   "cell_type": "code",
   "execution_count": 27,
   "metadata": {},
   "outputs": [
    {
     "name": "stdout",
     "output_type": "stream",
     "text": [
      "Acurácia do Dataset de Teste: 0.2829\n"
     ]
    }
   ],
   "source": [
    "# Imprime a acurácia do dataset de Teste\n",
    "print('Acurácia do Dataset de Teste:', evaluate_classes(weight_classes, classes, label_dataset_test))"
   ]
  }
 ],
 "metadata": {
  "colab": {
   "collapsed_sections": [],
   "name": "Tarefa 1 - Perceptrons aplicado ao CIFAR-10",
   "provenance": [],
   "version": "0.3.2"
  },
  "kernelspec": {
   "display_name": "Python 3",
   "language": "python",
   "name": "python3"
  },
  "language_info": {
   "codemirror_mode": {
    "name": "ipython",
    "version": 3
   },
   "file_extension": ".py",
   "mimetype": "text/x-python",
   "name": "python",
   "nbconvert_exporter": "python",
   "pygments_lexer": "ipython3",
   "version": "3.7.1"
  }
 },
 "nbformat": 4,
 "nbformat_minor": 2
}
